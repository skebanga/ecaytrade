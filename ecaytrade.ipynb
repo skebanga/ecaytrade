{
 "cells": [
  {
   "cell_type": "code",
   "execution_count": 1,
   "metadata": {
    "collapsed": true
   },
   "outputs": [],
   "source": [
    "import requests"
   ]
  },
  {
   "cell_type": "code",
   "execution_count": 80,
   "metadata": {
    "collapsed": false
   },
   "outputs": [],
   "source": [
    "payload = {\n",
    "    'do_search'  : 'Search',\n",
    "    'searchword' : 'espresso'\n",
    "}\n",
    "\n",
    "result = requests.post(\"http://www.ecaytrade.com/search.php\", params=payload)"
   ]
  },
  {
   "cell_type": "code",
   "execution_count": 81,
   "metadata": {
    "collapsed": false
   },
   "outputs": [],
   "source": [
    "if result.status_code is not 200:\n",
    "    print 'puke'"
   ]
  },
  {
   "cell_type": "code",
   "execution_count": 82,
   "metadata": {
    "collapsed": false
   },
   "outputs": [],
   "source": [
    "from bs4 import BeautifulSoup\n",
    "soup = BeautifulSoup(result.content, \"lxml\")"
   ]
  },
  {
   "cell_type": "code",
   "execution_count": 83,
   "metadata": {
    "collapsed": false
   },
   "outputs": [],
   "source": [
    "container = soup.find(\"table\", {\"id\": \"container\"})\n",
    "tables = container.find_all(\"table\")\n",
    "results = tables[4]\n",
    "tr = results.find_all(\"tr\", {\"class\": \"alt\"})"
   ]
  },
  {
   "cell_type": "code",
   "execution_count": 84,
   "metadata": {
    "collapsed": false
   },
   "outputs": [
    {
     "name": "stdout",
     "output_type": "stream",
     "text": [
      "<tr class=\"alt\">\n",
      " <td class=\"category\">\n",
      "  Garage Sales\n",
      " </td>\n",
      " <td class=\"pointer\">\n",
      "  <a href=\"detail.php?id=852776\">\n",
      "   Leaving island : Household Items\n",
      "  </a>\n",
      " </td>\n",
      " <td>\n",
      "  2015.08.10\n",
      " </td>\n",
      " <td>\n",
      "  2015.10.09\n",
      " </td>\n",
      " <td>\n",
      "  <img alt=\"hot\" src=\"images/flame1.png\"/>\n",
      " </td>\n",
      " <!-- <td></td> -->\n",
      " <td>\n",
      "  <a class=\"thumb\" href=\"detail.php?id=852776\">\n",
      "   <img alt=\"View this ad\" border=\"0\" src=\"images/852776_2015082134_tmb2.jpg\"/>\n",
      "  </a>\n",
      " </td>\n",
      "</tr>\n",
      "\n"
     ]
    }
   ],
   "source": [
    "item = tr[0]\n",
    "print item.prettify()"
   ]
  },
  {
   "cell_type": "code",
   "execution_count": 85,
   "metadata": {
    "collapsed": false
   },
   "outputs": [
    {
     "name": "stdout",
     "output_type": "stream",
     "text": [
      "Garage Sales\n",
      "Leaving island : Household Items\n",
      "detail.php?id=852776\n",
      "2015.08.10\n"
     ]
    }
   ],
   "source": [
    "category = item.find(\"td\", {\"class\": \"category\"})\n",
    "title = item.find(\"td\", {\"class\": \"pointer\"})\n",
    "url = title.find(\"a\")['href']\n",
    "title_text = title.text.strip()\n",
    "tds = item.find_all(\"td\")\n",
    "date_added = tds[2].text\n",
    "\n",
    "print category.text\n",
    "print title_text\n",
    "print url\n",
    "print date_added"
   ]
  },
  {
   "cell_type": "code",
   "execution_count": 93,
   "metadata": {
    "collapsed": false
   },
   "outputs": [],
   "source": [
    "item_data = requests.get(\"http://www.ecaytrade.com/\" + url)\n",
    "item_soup = BeautifulSoup(item_data.content, \"lxml\")\n",
    "item_container = item_soup.find(\"table\", {\"id\": \"container\"})\n",
    "item_tables = item_container.find_all(\"table\")\n",
    "item_results = item_tables[5]\n",
    "item_trs = item_results.find_all(\"tr\")\n",
    "item_tr = item_trs[2]"
   ]
  },
  {
   "cell_type": "code",
   "execution_count": 103,
   "metadata": {
    "collapsed": false
   },
   "outputs": [
    {
     "name": "stdout",
     "output_type": "stream",
     "text": [
      "Gibson Espresso cup $10\r\n",
      "Gibson teacups without saucers $5\r\n",
      "Pitcher with 6 glasses $10\n"
     ]
    }
   ],
   "source": [
    "item_details = item_tr.find(\"table\")\n",
    "item_details_trs = item_details.find_all(\"tr\")\n",
    "item_details_text = item_details_trs[1].text.strip()\n",
    "\n",
    "print item_details_text"
   ]
  },
  {
   "cell_type": "code",
   "execution_count": 105,
   "metadata": {
    "collapsed": false
   },
   "outputs": [
    {
     "name": "stdout",
     "output_type": "stream",
     "text": [
      "http://www.ecaytrade.com/detail.php?id=852776&user_id=8752&contact=1\n"
     ]
    }
   ],
   "source": [
    "seller_email = item_details_trs[6]\n",
    "seller_email_url = seller_email.find('a')['href']\n",
    "\n",
    "seller_email_link = \"http://www.ecaytrade.com/\" + seller_email_url\n",
    "print seller_email_link"
   ]
  },
  {
   "cell_type": "code",
   "execution_count": null,
   "metadata": {
    "collapsed": true
   },
   "outputs": [],
   "source": [
    "pictures = "
   ]
  }
 ],
 "metadata": {
  "kernelspec": {
   "display_name": "Python 2",
   "language": "python",
   "name": "python2"
  },
  "language_info": {
   "codemirror_mode": {
    "name": "ipython",
    "version": 2
   },
   "file_extension": ".py",
   "mimetype": "text/x-python",
   "name": "python",
   "nbconvert_exporter": "python",
   "pygments_lexer": "ipython2",
   "version": "2.7.6"
  }
 },
 "nbformat": 4,
 "nbformat_minor": 0
}
