{
 "cells": [
  {
   "cell_type": "code",
   "execution_count": 1,
   "metadata": {
    "collapsed": true
   },
   "outputs": [],
   "source": [
    "import requests"
   ]
  },
  {
   "cell_type": "code",
   "execution_count": 2,
   "metadata": {
    "collapsed": false
   },
   "outputs": [],
   "source": [
    "payload = {\n",
    "    'do_search'  : 'Search',\n",
    "    'searchword' : 'espresso'\n",
    "}\n",
    "\n",
    "result = requests.post(\"http://www.ecaytrade.com/search.php\", params=payload)"
   ]
  },
  {
   "cell_type": "code",
   "execution_count": 3,
   "metadata": {
    "collapsed": false
   },
   "outputs": [],
   "source": [
    "if result.status_code is not 200:\n",
    "    print 'puke'"
   ]
  },
  {
   "cell_type": "code",
   "execution_count": 4,
   "metadata": {
    "collapsed": false
   },
   "outputs": [],
   "source": [
    "from bs4 import BeautifulSoup\n",
    "soup = BeautifulSoup(result.content, \"lxml\")"
   ]
  },
  {
   "cell_type": "code",
   "execution_count": 5,
   "metadata": {
    "collapsed": false
   },
   "outputs": [],
   "source": [
    "container = soup.find(\"table\", {\"id\": \"container\"})\n",
    "tables = container.find_all(\"table\")\n",
    "results = tables[4]\n",
    "tr = results.find_all(\"tr\", {\"class\": \"alt\"})"
   ]
  },
  {
   "cell_type": "code",
   "execution_count": 6,
   "metadata": {
    "collapsed": false
   },
   "outputs": [
    {
     "name": "stdout",
     "output_type": "stream",
     "text": [
      "<tr class=\"alt\">\n",
      " <td class=\"category\">\n",
      "  SMB\n",
      " </td>\n",
      " <td class=\"pointer\">\n",
      "  <a href=\"detail.php?id=856539\">\n",
      "   Snug Harbour 3 bed near beach\n",
      "  </a>\n",
      " </td>\n",
      " <td>\n",
      "  2015.08.18\n",
      " </td>\n",
      " <td>\n",
      "  2015.10.17\n",
      " </td>\n",
      " <td>\n",
      " </td>\n",
      " <!-- <td></td> -->\n",
      " <td>\n",
      "  <a class=\"thumb\" href=\"detail.php?id=856539\">\n",
      "   <img alt=\"View this ad\" border=\"0\" src=\"images/856539_2015081938_tmb2.jpg\"/>\n",
      "  </a>\n",
      " </td>\n",
      "</tr>\n",
      "\n"
     ]
    }
   ],
   "source": [
    "item = tr[0]\n",
    "print item.prettify()"
   ]
  },
  {
   "cell_type": "code",
   "execution_count": 7,
   "metadata": {
    "collapsed": false
   },
   "outputs": [
    {
     "name": "stdout",
     "output_type": "stream",
     "text": [
      "SMB\n",
      "Snug Harbour 3 bed near beach\n",
      "detail.php?id=856539\n",
      "2015.08.18\n"
     ]
    }
   ],
   "source": [
    "category = item.find(\"td\", {\"class\": \"category\"})\n",
    "title = item.find(\"td\", {\"class\": \"pointer\"})\n",
    "url = title.find(\"a\")['href']\n",
    "title_text = title.text.strip()\n",
    "tds = item.find_all(\"td\")\n",
    "date_added = tds[2].text\n",
    "\n",
    "print category.text\n",
    "print title_text\n",
    "print url\n",
    "print date_added"
   ]
  },
  {
   "cell_type": "code",
   "execution_count": 8,
   "metadata": {
    "collapsed": false
   },
   "outputs": [],
   "source": [
    "item_data = requests.get(\"http://www.ecaytrade.com/\" + url)\n",
    "item_soup = BeautifulSoup(item_data.content, \"lxml\")\n",
    "item_container = item_soup.find(\"table\", {\"id\": \"container\"})\n",
    "item_tables = item_container.find_all(\"table\")\n",
    "item_results = item_tables[5]\n",
    "item_trs = item_results.find_all(\"tr\")\n",
    "item_tr = item_trs[2]"
   ]
  },
  {
   "cell_type": "code",
   "execution_count": 9,
   "metadata": {
    "collapsed": false
   },
   "outputs": [
    {
     "name": "stdout",
     "output_type": "stream",
     "text": [
      "Contemporary home with 3 bedrooms/3.5 baths, double garage, soaker pool and an open living floor plan! It's nearly new with stainless steel Whirplool appliances,wetbar, espresso wood cabinets and tile floors throughout! Just 5 minutes to SMB and Camana Bay and Intl'school.3200 ft. Available October 1st. CI$4,200/month.  Capital Realty Ltd.\r\n",
      "member of Cireba/ \r\n",
      "Call Alvin 525-8850\n"
     ]
    }
   ],
   "source": [
    "item_details = item_tr.find(\"table\")\n",
    "item_details_trs = item_details.find_all(\"tr\")\n",
    "item_details_text = item_details_trs[1].text.strip()\n",
    "\n",
    "print item_details_text"
   ]
  },
  {
   "cell_type": "code",
   "execution_count": 10,
   "metadata": {
    "collapsed": false
   },
   "outputs": [
    {
     "name": "stdout",
     "output_type": "stream",
     "text": [
      "http://www.ecaytrade.com/detail.php?id=856539&user_id=3829&contact=1\n"
     ]
    }
   ],
   "source": [
    "seller_email = item_details_trs[6]\n",
    "seller_email_url = seller_email.find('a')['href']\n",
    "\n",
    "seller_email_link = \"http://www.ecaytrade.com/\" + seller_email_url\n",
    "print seller_email_link"
   ]
  },
  {
   "cell_type": "code",
   "execution_count": 48,
   "metadata": {
    "collapsed": false
   },
   "outputs": [
    {
     "name": "stdout",
     "output_type": "stream",
     "text": [
      "<img src=\"http://www.ecaytrade.com/images/856539_2015081815.jpg>\n",
      "<img src=\"http://www.ecaytrade.com/images/856539_2015081919.jpg>\n",
      "<img src=\"http://www.ecaytrade.com/images/856539_2015081855.jpg>\n",
      "<img src=\"http://www.ecaytrade.com/images/856539_2015081938.jpg>\n",
      "<img src=\"http://www.ecaytrade.com/images/856539_2015081849.jpg>\n",
      "<img src=\"http://www.ecaytrade.com/images/856539_2015081836.jpg>\n",
      "<img src=\"http://www.ecaytrade.com/images/856539_2015081824.jpg>\n",
      "<img src=\"http://www.ecaytrade.com/images/856539_2015081901.jpg>\n"
     ]
    }
   ],
   "source": [
    "thumbs = item_soup.find_all(\"a\", {\"class\": \"thumb\"})\n",
    "for i in thumbs:\n",
    "    img = i.find(\"img\")\n",
    "    src = img['src']\n",
    "    url = src.replace('_tmb1', '')\n",
    "    html = '<img src=\"http://www.ecaytrade.com/' + url + '>'\n",
    "    print html\n"
   ]
  },
  {
   "cell_type": "code",
   "execution_count": 47,
   "metadata": {
    "collapsed": false
   },
   "outputs": [
    {
     "data": {
      "text/html": [
       "<img src=\"http://www.ecaytrade.com/images/856539_2015081815.jpg\"/>"
      ],
      "text/plain": [
       "<IPython.core.display.Image object>"
      ]
     },
     "execution_count": 47,
     "metadata": {},
     "output_type": "execute_result"
    }
   ],
   "source": [
    "from IPython.display import Image\n",
    "Image(url='http://www.ecaytrade.com/images/856539_2015081815.jpg')"
   ]
  },
  {
   "cell_type": "code",
   "execution_count": null,
   "metadata": {
    "collapsed": true
   },
   "outputs": [],
   "source": []
  }
 ],
 "metadata": {
  "kernelspec": {
   "display_name": "Python 2",
   "language": "python",
   "name": "python2"
  },
  "language_info": {
   "codemirror_mode": {
    "name": "ipython",
    "version": 2
   },
   "file_extension": ".py",
   "mimetype": "text/x-python",
   "name": "python",
   "nbconvert_exporter": "python",
   "pygments_lexer": "ipython2",
   "version": "2.7.6"
  }
 },
 "nbformat": 4,
 "nbformat_minor": 0
}
